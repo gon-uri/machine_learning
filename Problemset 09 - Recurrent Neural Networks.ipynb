{
 "cells": [
  {
   "cell_type": "markdown",
   "metadata": {},
   "source": [
    "## EJECUTA ESTA CELDA PARA AUTENTICARTE CON TU CUENTA DE GMAIL"
   ]
  },
  {
   "cell_type": "code",
   "execution_count": null,
   "metadata": {
    "collapsed": true
   },
   "outputs": [],
   "source": [
    "from mooclib import *\n",
    "import inspect, urllib\n",
    "html, auth_code, userinfo = google_authenticate(PORT_NUMBER=8080)\n",
    "html"
   ]
  },
  {
   "cell_type": "markdown",
   "metadata": {},
   "source": [
    "### Entiende el siguiente dataset y la señal que extraemos del mismo"
   ]
  },
  {
   "cell_type": "code",
   "execution_count": 30,
   "metadata": {
    "collapsed": false
   },
   "outputs": [],
   "source": [
    "import pandas as pd\n",
    "import pandas, numpy, theano, time\n",
    "import matplotlib.pyplot as plt\n",
    "import numpy as np\n",
    "%matplotlib inline"
   ]
  },
  {
   "cell_type": "code",
   "execution_count": 31,
   "metadata": {
    "collapsed": false
   },
   "outputs": [
    {
     "data": {
      "text/html": [
       "<div>\n",
       "<table border=\"1\" class=\"dataframe\">\n",
       "  <thead>\n",
       "    <tr style=\"text-align: right;\">\n",
       "      <th></th>\n",
       "      <th>Date</th>\n",
       "      <th>Rate</th>\n",
       "      <th>High (est)</th>\n",
       "      <th>Low (est)</th>\n",
       "    </tr>\n",
       "  </thead>\n",
       "  <tbody>\n",
       "    <tr>\n",
       "      <th>0</th>\n",
       "      <td>1999-09-06</td>\n",
       "      <td>2068.55</td>\n",
       "      <td>0.0</td>\n",
       "      <td>0.0</td>\n",
       "    </tr>\n",
       "    <tr>\n",
       "      <th>1</th>\n",
       "      <td>1999-09-07</td>\n",
       "      <td>2078.17</td>\n",
       "      <td>2103.0</td>\n",
       "      <td>2053.7</td>\n",
       "    </tr>\n",
       "    <tr>\n",
       "      <th>2</th>\n",
       "      <td>1999-09-08</td>\n",
       "      <td>2091.05</td>\n",
       "      <td>0.0</td>\n",
       "      <td>0.0</td>\n",
       "    </tr>\n",
       "    <tr>\n",
       "      <th>3</th>\n",
       "      <td>1999-09-09</td>\n",
       "      <td>2093.84</td>\n",
       "      <td>2118.6</td>\n",
       "      <td>2069.4</td>\n",
       "    </tr>\n",
       "    <tr>\n",
       "      <th>4</th>\n",
       "      <td>1999-09-10</td>\n",
       "      <td>2087.55</td>\n",
       "      <td>0.0</td>\n",
       "      <td>0.0</td>\n",
       "    </tr>\n",
       "  </tbody>\n",
       "</table>\n",
       "</div>"
      ],
      "text/plain": [
       "         Date     Rate  High (est)  Low (est)\n",
       "0  1999-09-06  2068.55         0.0        0.0\n",
       "1  1999-09-07  2078.17      2103.0     2053.7\n",
       "2  1999-09-08  2091.05         0.0        0.0\n",
       "3  1999-09-09  2093.84      2118.6     2069.4\n",
       "4  1999-09-10  2087.55         0.0        0.0"
      ]
     },
     "execution_count": 31,
     "metadata": {},
     "output_type": "execute_result"
    }
   ],
   "source": [
    "cop = pd.read_csv(\"data/eurcop.csv\")\n",
    "cop.head()"
   ]
  },
  {
   "cell_type": "code",
   "execution_count": 32,
   "metadata": {
    "collapsed": false
   },
   "outputs": [
    {
     "data": {
      "text/plain": [
       "<matplotlib.text.Text at 0x9ae1576c>"
      ]
     },
     "execution_count": 32,
     "metadata": {},
     "output_type": "execute_result"
    },
    {
     "data": {
      "image/png": "[encoded data removed]",
      "text/plain": [
       "<matplotlib.figure.Figure at 0x9ae7b14c>"
      ]
     },
     "metadata": {},
     "output_type": "display_data"
    }
   ],
   "source": [
    "signal = cop.Rate.as_matrix()\n",
    "plt.figure(figsize=(15,2))\n",
    "plt.plot(signal)\n",
    "plt.xlim([0, len(cop)])\n",
    "plt.title(\"COP/EUR exchange rate\")"
   ]
  },
  {
   "cell_type": "markdown",
   "metadata": {},
   "source": [
    "## Ejercicio 1: Data normalization\n",
    "\n",
    "Completa la siguiente función para:\n",
    "\n",
    "1. Cargar los datos del histórico de la tasa de cambio peso/dólar\n",
    "1. Usar un [MinMaxScaler](http://scikit-learn.org/stable/modules/generated/sklearn.preprocessing.MinMaxScaler.html) para normalizar la columna `Rate` a valores entre 0 y 1\n",
    "\n",
    "La función habrá de devolver un array numpy de con `shape` (5044,) con la columna `Rate` normalizada."
   ]
  },
  {
   "cell_type": "code",
   "execution_count": null,
   "metadata": {
    "collapsed": false
   },
   "outputs": [],
   "source": [
    "def cop_normalized():\n",
    "    from sklearn.preprocessing import MinMaxScaler\n",
    "    import pandas as pd\n",
    "    signal = ... # obten la columna Rate del dataset\n",
    "    signal_normalized = ...\n",
    "    return signal_normalized\n",
    "\n",
    "import urllib, inspect\n",
    "src1 = urllib.quote_plus(inspect.getsource(cop_normalized))"
   ]
  },
  {
   "cell_type": "markdown",
   "metadata": {},
   "source": [
    "comprueba tu código"
   ]
  },
  {
   "cell_type": "code",
   "execution_count": null,
   "metadata": {
    "collapsed": false
   },
   "outputs": [],
   "source": [
    "s = cop_normalized()\n",
    "print s.shape\n",
    "plt.figure(figsize=(15,2))\n",
    "plt.plot(s)\n",
    "plt.xlim([0, len(s)]);"
   ]
  },
  {
   "cell_type": "markdown",
   "metadata": {},
   "source": [
    "#### evaluate your answer before submitting:"
   ]
  },
  {
   "cell_type": "code",
   "execution_count": null,
   "metadata": {
    "collapsed": false
   },
   "outputs": [],
   "source": [
    "!./run CHECK_SOLUTION PS9_1 $src1"
   ]
  },
  {
   "cell_type": "markdown",
   "metadata": {},
   "source": [
    "#### submit your answer (you must be connected to internet)\n"
   ]
  },
  {
   "cell_type": "code",
   "execution_count": null,
   "metadata": {
    "collapsed": true
   },
   "outputs": [],
   "source": [
    "!./run SUBMIT_SOLUTION PS9_1 $src1"
   ]
  },
  {
   "cell_type": "markdown",
   "metadata": {},
   "source": [
    "## Ejercicio 2: Moving average\n",
    "\n",
    "Completa la función siguiente para que, dada una señal $s$ y un tamaño de ventana $w$, genere una nueva señal que sea una versión suavizada de la orginal de forma que:\n",
    "\n",
    "- $w[k] = \\frac{1}{w}\\sum_{i=k}^{k+w-1}s[i]$\n",
    "- la nueva señal tenga $w$ elementos menos que la señal original\n",
    "\n",
    "P.ej. si la señal original tiene `shape` (5000,), la señal suavizada ha de tener `shape` (4900,)"
   ]
  },
  {
   "cell_type": "code",
   "execution_count": null,
   "metadata": {
    "collapsed": false
   },
   "outputs": [],
   "source": [
    "def moving_average(signal, wsize):\n",
    "    \n",
    "    result = ....\n",
    "    \n",
    "    return result\n",
    "\n",
    "import urllib, inspect\n",
    "src2 = urllib.quote_plus(inspect.getsource(moving_average))"
   ]
  },
  {
   "cell_type": "code",
   "execution_count": null,
   "metadata": {
    "collapsed": false
   },
   "outputs": [],
   "source": [
    "s = cop_normalized()\n",
    "w = 100\n",
    "ms = moving_average(s, w)\n",
    "print s.shape, ms.shape\n",
    "plt.figure(figsize=(15,2))\n",
    "plt.plot(s, alpha=.5, color=\"blue\")\n",
    "plt.plot(list(np.zeros(w)*np.nan)+list(ms), color=\"red\")\n",
    "plt.xlim([0, len(s)]);"
   ]
  },
  {
   "cell_type": "markdown",
   "metadata": {},
   "source": [
    "#### evaluate your answer before submitting:"
   ]
  },
  {
   "cell_type": "code",
   "execution_count": null,
   "metadata": {
    "collapsed": false
   },
   "outputs": [],
   "source": [
    "!./run CHECK_SOLUTION PS9_2 $src2"
   ]
  },
  {
   "cell_type": "markdown",
   "metadata": {},
   "source": [
    "#### submit your answer (you must be connected to internet)\n"
   ]
  },
  {
   "cell_type": "code",
   "execution_count": null,
   "metadata": {
    "collapsed": true
   },
   "outputs": [],
   "source": [
    "!./run SUBMIT_SOLUTION PS9_2 $src2"
   ]
  },
  {
   "cell_type": "markdown",
   "metadata": {},
   "source": [
    "## Ejercicio 3: Building sequences\n",
    "\n",
    "Completa la función siguiente para que, dada una señal $\\in \\mathbb{R}^n$ y una longidud de secuencia, construya una matriz con las secuencias consecutivas y superpuestas.\n",
    "\n",
    "Por ejemplo, la siguiente señal\n",
    "\n",
    "      [20 87 87 77 84 43  9 84 36 63]\n",
    "\n",
    "con una longitud de secuencia igual 5, generaría la siguiente matriz:\n",
    "\n",
    "        [[20 87 87 77 84]\n",
    "         [87 87 77 84 43]\n",
    "         [87 77 84 43  9]\n",
    "         [77 84 43  9 84]\n",
    "         [84 43  9 84 36]]\n",
    "\n",
    "observa como los valores se van desplazando hacia la izquierda en filas consecutivas"
   ]
  },
  {
   "cell_type": "code",
   "execution_count": null,
   "metadata": {
    "collapsed": false
   },
   "outputs": [],
   "source": [
    "def make_seqs(s, seq_len):\n",
    "\n",
    "    result = ...  \n",
    "\n",
    "    return result\n",
    "\n",
    "import urllib, inspect\n",
    "src3 = urllib.quote_plus(inspect.getsource(make_seqs))"
   ]
  },
  {
   "cell_type": "markdown",
   "metadata": {},
   "source": [
    "comprueba tu código y visualiza algunas secuencias de la señal cop/eur"
   ]
  },
  {
   "cell_type": "code",
   "execution_count": null,
   "metadata": {
    "collapsed": false
   },
   "outputs": [],
   "source": [
    "s = np.array([20, 87, 87, 77, 84, 43,  9, 84, 36, 63])\n",
    "print make_seqs(s,5)"
   ]
  },
  {
   "cell_type": "code",
   "execution_count": null,
   "metadata": {
    "collapsed": false
   },
   "outputs": [],
   "source": [
    "s = cop_normalized()\n",
    "ms = moving_average(s, 5)\n",
    "x = make_seqs(ms, seq_len=100)\n",
    "plt.figure(figsize=(10,2))\n",
    "for i in range(10):\n",
    "    plt.plot(x[i])"
   ]
  },
  {
   "cell_type": "markdown",
   "metadata": {},
   "source": [
    "#### evaluate your answer before submitting:"
   ]
  },
  {
   "cell_type": "code",
   "execution_count": null,
   "metadata": {
    "collapsed": false
   },
   "outputs": [],
   "source": [
    "!./run CHECK_SOLUTION PS9_3 $src3"
   ]
  },
  {
   "cell_type": "markdown",
   "metadata": {},
   "source": [
    "#### submit your answer (you must be connected to internet)\n"
   ]
  },
  {
   "cell_type": "code",
   "execution_count": null,
   "metadata": {
    "collapsed": true
   },
   "outputs": [],
   "source": [
    "!./run SUBMIT_SOLUTION PS9_3 $src3"
   ]
  },
  {
   "cell_type": "markdown",
   "metadata": {},
   "source": [
    "## Ejercicio 4: Prepare data for RNN\n",
    "\n",
    "Completa la siguiente función para que, dada una matriz como la resultante del ejercicio anterior, \n",
    "\n",
    "- Extraiga en `X` todas las columnas menos la última\n",
    "- Extraiga en `y` la última columna\n",
    "- Extraiga en `X_train` e `y_train` las primeras filas de `X` y componentes de `y` respectivamente según el porcentaje indicado en  `train_pct`\n",
    "- Extraige en `X_test` e `y_test` el resto de datos.\n",
    "\n",
    "Observa como, con esto, estamos creando un dataset para predecir el siguiente valor de una secuencia.\n",
    "\n",
    "Por ejemplo, con las siguientes secuencias y un train_pct de 0.5:\n",
    "\n",
    "\n",
    "        [[20 87 87 77 84]\n",
    "         [87 87 77 84 43]\n",
    "         [87 77 84 43  9]\n",
    "         [77 84 43  9 84]\n",
    "         [84 43  9 84 36]]\n",
    "         \n",
    "Estos serían los varlores de X_train e y_train\n",
    "\n",
    "        [[20 87 87 77]\n",
    "         [87 87 77 84]]\n",
    "         \n",
    "        [84 43]\n",
    "\n",
    "Y estos los de X_test e y_test\n",
    "\n",
    "        [[87 77 84 43]\n",
    "         [77 84 43  9]\n",
    "         [84 43  9 84]]\n",
    "         \n",
    "        [ 9 84 36]"
   ]
  },
  {
   "cell_type": "code",
   "execution_count": null,
   "metadata": {
    "collapsed": true
   },
   "outputs": [],
   "source": [
    "def prepare_data(seqs, train_pct):\n",
    "\n",
    "    X_train = ...\n",
    "    y_train = ...\n",
    "\n",
    "    X_test  = ...\n",
    "    y_test  = ...\n",
    "\n",
    "    return X_train, y_train, X_test, y_test\n",
    "\n",
    "\n",
    "import urllib, inspect\n",
    "src4 = urllib.quote_plus(inspect.getsource(prepare_data))"
   ]
  },
  {
   "cell_type": "markdown",
   "metadata": {},
   "source": [
    "Comprueba tu código y visualiza las y_train e y_test"
   ]
  },
  {
   "cell_type": "code",
   "execution_count": null,
   "metadata": {
    "collapsed": false
   },
   "outputs": [],
   "source": [
    "s  = np.array([20, 87, 87, 77, 84, 43,  9, 84, 36, 63])\n",
    "sq = make_seqs(s,5)\n",
    "X_train, y_train, X_test, y_test = prepare_data(sq, .5)\n",
    "print sq\n",
    "print X_train\n",
    "print y_train\n",
    "print X_test\n",
    "print y_test"
   ]
  },
  {
   "cell_type": "code",
   "execution_count": null,
   "metadata": {
    "collapsed": false
   },
   "outputs": [],
   "source": [
    "s    = cop_normalized()\n",
    "ms   = moving_average(s, 20)\n",
    "seqs = make_seqs(ms, seq_len=100)\n",
    "X_train, y_train, X_test, y_test = prepare_data(seqs, train_pct=.2)\n",
    "print X_train.shape, X_test.shape, y_train.shape, y_test.shape\n",
    "plt.figure(figsize=(15,2))\n",
    "plt.plot(y_train, label=\"train\")\n",
    "plt.plot(list(np.ones(len(y_train)+X_train.shape[1])*np.nan)+list(y_test), label=\"test\")\n",
    "plt.xlim([0, len(seqs)])\n",
    "plt.legend(loc='center left', bbox_to_anchor=(1, 0.5))"
   ]
  },
  {
   "cell_type": "markdown",
   "metadata": {},
   "source": [
    "#### evaluate your answer before submitting:"
   ]
  },
  {
   "cell_type": "code",
   "execution_count": null,
   "metadata": {
    "collapsed": false
   },
   "outputs": [],
   "source": [
    "!./run CHECK_SOLUTION PS9_4 $src4"
   ]
  },
  {
   "cell_type": "markdown",
   "metadata": {},
   "source": [
    "#### submit your answer (you must be connected to internet)\n"
   ]
  },
  {
   "cell_type": "code",
   "execution_count": null,
   "metadata": {
    "collapsed": true
   },
   "outputs": [],
   "source": [
    "!./run SUBMIT_SOLUTION PS9_4 $src4"
   ]
  },
  {
   "cell_type": "markdown",
   "metadata": {},
   "source": [
    "## Ejercicio 5: Design RNN\n",
    "\n",
    "Completa la función siguiente para genere una red LSTM con `Keras` al igual que en las notas de forma que tenga:\n",
    "\n",
    "- Una capa LSTM con `output_dim` igual a `n_out` e `input_dim` igual a `seq_len`\n",
    "- Una capa de Dropout al 0.6\n",
    "- Una capa Dense de 1 neurona\n",
    "\n"
   ]
  },
  {
   "cell_type": "code",
   "execution_count": null,
   "metadata": {
    "collapsed": false
   },
   "outputs": [],
   "source": [
    "def create_rnn(seq_len, n_out):\n",
    "    from keras.models import Sequential\n",
    "    from keras.layers.core import Dense, Dropout\n",
    "    from keras.layers.recurrent import LSTM\n",
    "    model = Sequential()\n",
    "\n",
    "    ....\n",
    "    \n",
    "    return model\n",
    "\n",
    "import urllib, inspect\n",
    "src5 = urllib.quote_plus(inspect.getsource(create_rnn))"
   ]
  },
  {
   "cell_type": "markdown",
   "metadata": {},
   "source": [
    "#### evaluate your answer before submitting:"
   ]
  },
  {
   "cell_type": "code",
   "execution_count": null,
   "metadata": {
    "collapsed": false
   },
   "outputs": [],
   "source": [
    "!./run CHECK_SOLUTION PS9_5 $src5"
   ]
  },
  {
   "cell_type": "markdown",
   "metadata": {},
   "source": [
    "#### submit your answer (you must be connected to internet)\n"
   ]
  },
  {
   "cell_type": "code",
   "execution_count": null,
   "metadata": {
    "collapsed": true
   },
   "outputs": [],
   "source": [
    "!./run SUBMIT_SOLUTION PS9_5 $src5"
   ]
  },
  {
   "cell_type": "markdown",
   "metadata": {},
   "source": [
    "## Ya está! Ahora puedes entrenar y probar tu RNN\n",
    "\n",
    "juega con distintos valores de wsize, seqlen, LSTM_OUTPUT y nb_epoch"
   ]
  },
  {
   "cell_type": "code",
   "execution_count": 25,
   "metadata": {
    "collapsed": false
   },
   "outputs": [
    {
     "name": "stdout",
     "output_type": "stream",
     "text": [
      "compiling ...  done\n"
     ]
    }
   ],
   "source": [
    "import sys\n",
    "\n",
    "wsize, seqlen = 5,100\n",
    "LSTM_output   = 20\n",
    "\n",
    "# obtain timeseries dataset\n",
    "s    = cop_normalized()\n",
    "ms   = moving_average(s, wsize)\n",
    "seqs = make_seqs(ms, seq_len=seqlen)\n",
    "X_train, y_train, X_test, y_test = prepare_data(seqs, train_pct=.5)\n",
    "\n",
    "# reformat dataset as Keras needs them\n",
    "X_train = np.reshape(X_train, (X_train.shape[0], 1, X_train.shape[1]))\n",
    "X_test = np.reshape(X_test, (X_test.shape[0], 1, X_test.shape[1]))\n",
    "\n",
    "# create and compile model\n",
    "model = create_rnn(seqlen-1, LSTM_output)\n",
    "print \"compiling ... \",\n",
    "sys.stdout.flush()\n",
    "model.compile(loss='mean_squared_error', optimizer='adam')\n",
    "print \"done\""
   ]
  },
  {
   "cell_type": "code",
   "execution_count": 26,
   "metadata": {
    "collapsed": false
   },
   "outputs": [
    {
     "name": "stdout",
     "output_type": "stream",
     "text": [
      "Epoch 1/20\n",
      "2469/2469 [==============================] - 0s - loss: 0.0702     \n",
      "Epoch 2/20\n",
      "2469/2469 [==============================] - 0s - loss: 0.0260     \n",
      "Epoch 3/20\n",
      "2469/2469 [==============================] - 0s - loss: 0.0228     \n",
      "Epoch 4/20\n",
      "2469/2469 [==============================] - 0s - loss: 0.0201     \n",
      "Epoch 5/20\n",
      "2469/2469 [==============================] - 0s - loss: 0.0180     \n",
      "Epoch 6/20\n",
      "2469/2469 [==============================] - 0s - loss: 0.0169     \n",
      "Epoch 7/20\n",
      "2469/2469 [==============================] - 0s - loss: 0.0163     \n",
      "Epoch 8/20\n",
      "2469/2469 [==============================] - 0s - loss: 0.0146     \n",
      "Epoch 9/20\n",
      "2469/2469 [==============================] - 0s - loss: 0.0134     \n",
      "Epoch 10/20\n",
      "2469/2469 [==============================] - 0s - loss: 0.0137     \n",
      "Epoch 11/20\n",
      "2469/2469 [==============================] - 0s - loss: 0.0126     \n",
      "Epoch 12/20\n",
      "2469/2469 [==============================] - 0s - loss: 0.0117     \n",
      "Epoch 13/20\n",
      "2469/2469 [==============================] - 0s - loss: 0.0106     \n",
      "Epoch 14/20\n",
      "2469/2469 [==============================] - 0s - loss: 0.0113     \n",
      "Epoch 15/20\n",
      "2469/2469 [==============================] - 0s - loss: 0.0101     \n",
      "Epoch 16/20\n",
      "2469/2469 [==============================] - 0s - loss: 0.0094     \n",
      "Epoch 17/20\n",
      "2469/2469 [==============================] - 0s - loss: 0.0093     \n",
      "Epoch 18/20\n",
      "2469/2469 [==============================] - 0s - loss: 0.0095     \n",
      "Epoch 19/20\n",
      "2469/2469 [==============================] - 0s - loss: 0.0082     \n",
      "Epoch 20/20\n",
      "2469/2469 [==============================] - 0s - loss: 0.0079     \n"
     ]
    },
    {
     "data": {
      "text/plain": [
       "<keras.callbacks.History at 0x9af9056c>"
      ]
     },
     "execution_count": 26,
     "metadata": {},
     "output_type": "execute_result"
    }
   ],
   "source": [
    "batch_size = 50\n",
    "nb_epoch  = 20\n",
    "\n",
    "model.fit(X_train, y_train, nb_epoch=nb_epoch, batch_size=batch_size, verbose=1)\n"
   ]
  },
  {
   "cell_type": "markdown",
   "metadata": {},
   "source": [
    "predict test prices"
   ]
  },
  {
   "cell_type": "code",
   "execution_count": 27,
   "metadata": {
    "collapsed": true
   },
   "outputs": [],
   "source": [
    "preds =  model.predict(X_test)[:,0]"
   ]
  },
  {
   "cell_type": "markdown",
   "metadata": {},
   "source": [
    "show predictions"
   ]
  },
  {
   "cell_type": "code",
   "execution_count": 28,
   "metadata": {
    "collapsed": false
   },
   "outputs": [
    {
     "data": {
      "text/plain": [
       "<matplotlib.legend.Legend at 0x9af5832c>"
      ]
     },
     "execution_count": 28,
     "metadata": {},
     "output_type": "execute_result"
    },
    {
     "data": {
      "image/png": "[encoded data removed]",
      "text/plain": [
       "<matplotlib.figure.Figure at 0x9af90fec>"
      ]
     },
     "metadata": {},
     "output_type": "display_data"
    }
   ],
   "source": [
    "plt.figure(figsize=(15,2))\n",
    "from sklearn.metrics import mean_squared_error\n",
    "plt.title(\"MSE %.6f\"%mean_squared_error(y_test, preds))\n",
    "plt.plot(y_test, label=\"target\")\n",
    "plt.plot(preds, label=\"prediction\")\n",
    "plt.legend(loc='center left', bbox_to_anchor=(1, 0.5))"
   ]
  },
  {
   "cell_type": "markdown",
   "metadata": {},
   "source": [
    "measure accuracy on predicting whether next price is going to be lower or higher"
   ]
  },
  {
   "cell_type": "code",
   "execution_count": 29,
   "metadata": {
    "collapsed": false
   },
   "outputs": [
    {
     "name": "stdout",
     "output_type": "stream",
     "text": [
      "0.968\n"
     ]
    }
   ],
   "source": [
    "diff_ytest = y_test[1:]>y_test[:1]\n",
    "diff_preds = preds[1:]>preds[:1]\n",
    "print \"%.3f\"%(np.sum(diff_preds==diff_ytest)*1./len(diff_preds))"
   ]
  },
  {
   "cell_type": "code",
   "execution_count": null,
   "metadata": {
    "collapsed": true
   },
   "outputs": [],
   "source": []
  }
 ],
 "metadata": {
  "kernelspec": {
   "display_name": "Python 2",
   "language": "python",
   "name": "python2"
  },
  "language_info": {
   "codemirror_mode": {
    "name": "ipython",
    "version": 2
   },
   "file_extension": ".py",
   "mimetype": "text/x-python",
   "name": "python",
   "nbconvert_exporter": "python",
   "pygments_lexer": "ipython2",
   "version": "2.7.11"
  },
  "toc": {
   "toc_cell": false,
   "toc_number_sections": false,
   "toc_threshold": 6,
   "toc_window_display": false
  },
  "widgets": {
   "state": {},
   "version": "1.1.2"
  }
 },
 "nbformat": 4,
 "nbformat_minor": 0
}
